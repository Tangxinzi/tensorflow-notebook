{
 "cells": [
  {
   "cell_type": "code",
   "execution_count": 1,
   "metadata": {},
   "outputs": [
    {
     "name": "stdout",
     "output_type": "stream",
     "text": [
      "x.shape: (3, 784)\n",
      "float32\n",
      "pred_y: Tensor(\"strided_slice:0\", shape=(3, 10), dtype=float32)\n"
     ]
    }
   ],
   "source": [
    "import tensorflow as tf\n",
    "import numpy as np\n",
    "INPUT_NODE = 784\n",
    "OUTPUT_NODE  = 10\n",
    "LAYER_NODE = 500\n",
    "\n",
    "def get_weight(shape,regularizer):\n",
    "    #beijieduande biaozhuncha buhuichaoguo liangge biaozhuncha\n",
    "    w = tf.Variable(tf.truncated_normal(shape,stddev=0.1))\n",
    "    if regularizer != None:\n",
    "        tf.add_to_collection(\"losses\",tf.contrib.layers.l2_regularizer(regularizer)(w))\n",
    "    return w\n",
    "    \n",
    "def get_bias(shape):\n",
    "    b = tf.Variable(tf.zeros(shape))\n",
    "    return b\n",
    "\n",
    "def forward(x, regularizer):\n",
    "    w1 = get_weight((INPUT_NODE,LAYER_NODE),regularizer)\n",
    "    b1 = get_bias(LAYER_NODE)\n",
    "    y1 = tf.nn.relu(tf.matmul(x,w1)+b1)\n",
    "    \n",
    "    w2 = get_weight((LAYER_NODE,OUTPUT_NODE),regularizer)\n",
    "    b2 = get_bias(OUTPUT_NODE)\n",
    "    y2 = tf.matmul(y1,w2)+b2\n",
    "    return y2\n",
    "\n",
    "def main():\n",
    "    x = np.random.random((3,784))\n",
    "    x = x.astype(np.float32)\n",
    "    print(\"x.shape:\",x.shape)\n",
    "    regularizer = 0.001\n",
    "    print(x.dtype)\n",
    "\n",
    "    pred_y = forward(x,regularizer)\n",
    "    print(\"pred_y:\",pred_y[:])\n",
    "if __name__==\"__main__\":\n",
    "    main()\n"
   ]
  },
  {
   "cell_type": "code",
   "execution_count": null,
   "metadata": {},
   "outputs": [],
   "source": []
  }
 ],
 "metadata": {
  "kernelspec": {
   "display_name": "Python 3",
   "language": "python",
   "name": "python3"
  },
  "language_info": {
   "codemirror_mode": {
    "name": "ipython",
    "version": 3
   },
   "file_extension": ".py",
   "mimetype": "text/x-python",
   "name": "python",
   "nbconvert_exporter": "python",
   "pygments_lexer": "ipython3",
   "version": "3.5.6"
  }
 },
 "nbformat": 4,
 "nbformat_minor": 2
}
