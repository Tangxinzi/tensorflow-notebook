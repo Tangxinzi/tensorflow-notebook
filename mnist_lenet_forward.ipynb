{
 "cells": [
  {
   "cell_type": "code",
   "execution_count": 3,
   "metadata": {},
   "outputs": [],
   "source": [
    "import tensorflow as tf\n",
    "IMAGE_SIZE = 28\n",
    "NUM_CHANNELS = 1\n",
    "CONV1_SIZE = 5\n",
    "CONV1_KERNEL_NUM = 32\n",
    "CONV2_SIZE = 5\n",
    "CONV2_KERNEL_NUM = 64\n",
    "FC_SIZE = 512\n",
    "OUTPUT_SIZE = 10\n",
    "\n",
    "def get_weight(shape, regularizer):\n",
    "    w = tf.Variable(tf.truncated_normal(shape,stddev=0.1))\n",
    "#     print(\"w:\",sess.run(w))\n",
    "    if regularizer!=None:\n",
    "        tf.add_to_collection(\"losses\",tf.contrib.layers.l2_regularizer(regularizer)(w))\n",
    "    return w\n",
    "    \n",
    "    \n",
    "def get_bias(shape):\n",
    "    b = tf.Variable(tf.zeros(shape))\n",
    "    return b\n",
    "\n",
    "def conv2d(x,w):\n",
    "    return tf.nn.conv2d(x,w,[1,1,1,1],padding=\"SAME\")\n",
    "\n",
    "def max_pool_2x2(x):\n",
    "    return tf.nn.max_pool(x, ksize=[1,2,2,1],strides = [1,2,2,1] ,padding = \"SAME\")\n"
   ]
  },
  {
   "cell_type": "code",
   "execution_count": 4,
   "metadata": {},
   "outputs": [],
   "source": [
    "def forward(x,train,regularizer):\n",
    "    conv1_w = get_weight([CONV1_SIZE,CONV1_SIZE,NUM_CHANNELS,CONV1_KERNEL_NUM],regularizer=0.0001)\n",
    "    conv1_b = get_bias([CONV1_KERNEL_NUM])\n",
    "    conv1 = conv2d(x,conv1_w)\n",
    "    relu1 = tf.nn.relu(tf.nn.bias(conv1,conv1_b))\n",
    "    pool1 = max_pool_2x2(relu1)\n",
    "    \n",
    "    conv2_w = get_weight([CONV2_SIZE,CONV2_SIZE,CONV1_KERNEL_NUM,CONV2_KERNEL_NUM],regularizer=0.0001)\n",
    "    conv2_b = get_bias([CONV2_KERNEL_NUM])\n",
    "    conv2 = conv2d(pool1,conv2_w)\n",
    "    relu2 = tf.nn.relu(tf.nn.bias_add(conv2,conv2_b))\n",
    "    pool2 = max_pool_2x2(relu2)\n",
    "    \n",
    "    pool_shape = pool2.get_shape().as_list()\n",
    "    #pool_shape[0]是一个batch的值\n",
    "    print(\"pool_shape[0]:\",pool_shape[0])\n",
    "    nodes = pool_shape[1]* pool_shape[2] * pool_shape[3]\n",
    "    reshaped = tf.reshape(pool2,[pool_shape[0],nodes])\n",
    "    \n",
    "    fc1_w = get_weight([nodes,FC_SIZE],regularizer=0.0001)\n",
    "    fc1_b = get_bias([FC_SIZE])\n",
    "    fc1 = tf.nn.relu(tf.matmul(reshape,fc1_w)+fcl_b)\n",
    "    if train: fcl = tf.nn.dropout(fc1,0.5)\n",
    "        \n",
    "    fc2_w = get_weight([FC_SIZE,10],regularizer=0.0001)\n",
    "    fc2_b = get_bias([10])\n",
    "    y = tf.matmul(fc1,fc2_w)+fc2_b\n",
    "    return y\n",
    "    \n"
   ]
  },
  {
   "cell_type": "code",
   "execution_count": null,
   "metadata": {},
   "outputs": [],
   "source": [
    "\n",
    "\n",
    "\n",
    "\n",
    "\n"
   ]
  },
  {
   "cell_type": "code",
   "execution_count": null,
   "metadata": {},
   "outputs": [],
   "source": [
    "def main():\n",
    "    shape = IMAGE_SIZE\n",
    "    w = get_weight(shape,0)\n",
    "    \n",
    "    with tf.Session() as sess:\n",
    "        print(\"w:\",sess.run(w))\n",
    "    \n",
    "if __name__ == \"__main__\":\n",
    "    main()"
   ]
  }
 ],
 "metadata": {
  "kernelspec": {
   "display_name": "Python 3",
   "language": "python",
   "name": "python3"
  },
  "language_info": {
   "codemirror_mode": {
    "name": "ipython",
    "version": 3
   },
   "file_extension": ".py",
   "mimetype": "text/x-python",
   "name": "python",
   "nbconvert_exporter": "python",
   "pygments_lexer": "ipython3",
   "version": "3.5.5"
  },
  "widgets": {
   "state": {},
   "version": "1.1.2"
  }
 },
 "nbformat": 4,
 "nbformat_minor": 2
}
